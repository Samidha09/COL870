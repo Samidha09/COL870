{
 "cells": [
  {
   "cell_type": "code",
   "execution_count": 37,
   "metadata": {},
   "outputs": [],
   "source": [
    "import torch\n",
    "from torch_geometric.utils import to_dense_adj\n",
    "\n",
    "from data import get_dataset"
   ]
  },
  {
   "cell_type": "code",
   "execution_count": 53,
   "metadata": {},
   "outputs": [
    {
     "name": "stderr",
     "output_type": "stream",
     "text": [
      "/DATATWO/users/burouj/miniconda3/envs/nag-sim/lib/python3.8/site-packages/dgl/heterograph.py:3719: DGLWarning: DGLGraph.adjacency_matrix_scipy is deprecated. Please replace it with:\n",
      "\n",
      "\tDGLGraph.adjacency_matrix(transpose, scipy_fmt=\"csr\").\n",
      "\n",
      "  dgl_warning('DGLGraph.adjacency_matrix_scipy is deprecated. '\n",
      "/DATATWO/users/burouj/miniconda3/envs/nag-sim/lib/python3.8/site-packages/scipy/sparse/linalg/_eigen/arpack/arpack.py:1272: RuntimeWarning: k >= N - 1 for N * N square matrix. Attempting to use scipy.linalg.eig instead.\n",
      "  warnings.warn(\"k >= N - 1 for N * N square matrix. \"\n"
     ]
    },
    {
     "name": "stdout",
     "output_type": "stream",
     "text": [
      "\n",
      "Graphs dropped for being too small: 9/800\n"
     ]
    }
   ],
   "source": [
    "graphs, idx_train, idx_val, idx_test, idx_dropped = get_dataset(\n",
    "    dataset=\"LINUX\",\n",
    "    pe_dim=2,\n",
    "    path=\"../../data/nagphormer/\",\n",
    "    train_split=1.0,\n",
    ")"
   ]
  },
  {
   "cell_type": "code",
   "execution_count": 54,
   "metadata": {},
   "outputs": [],
   "source": [
    "max_degree = 0\n",
    "for idx, graph in enumerate(graphs):\n",
    "    if idx in idx_dropped:\n",
    "        continue\n",
    "    dense_adj = to_dense_adj(graph[0].coalesce().indices()).squeeze(0)\n",
    "    local_max_degree = dense_adj.sum(dim=0).max()\n",
    "    if local_max_degree > max_degree:\n",
    "        max_degree = int(local_max_degree.item())"
   ]
  },
  {
   "cell_type": "code",
   "execution_count": 65,
   "metadata": {},
   "outputs": [],
   "source": [
    "list_one_hot_features = list()\n",
    "for idx, graph in enumerate(graphs):\n",
    "    if idx in idx_dropped:\n",
    "        list_one_hot_features.append(None)\n",
    "        continue\n",
    "    dense_adj = to_dense_adj(graph[0].coalesce().indices()).squeeze(0)\n",
    "    degrees = dense_adj.sum(dim=0)\n",
    "    num_nodes = graph[1].size(0)\n",
    "    one_hot_features = torch.zeros(size=(num_nodes, max_degree+1)) # +1 for accomodating 0 degree\n",
    "    for node in range(num_nodes):\n",
    "        one_hot_features[node, int(degrees[node])] = 1\n",
    "    list_one_hot_features.append(one_hot_features)"
   ]
  },
  {
   "cell_type": "code",
   "execution_count": 68,
   "metadata": {},
   "outputs": [],
   "source": [
    "for idx, graph in enumerate(graphs):\n",
    "    if idx in idx_dropped:\n",
    "        continue\n",
    "    graph[1] = torch.concat([graph[1], list_one_hot_features[idx]], dim=1)"
   ]
  },
  {
   "cell_type": "code",
   "execution_count": 71,
   "metadata": {},
   "outputs": [
    {
     "data": {
      "text/plain": [
       "torch.Size([8, 10])"
      ]
     },
     "execution_count": 71,
     "metadata": {},
     "output_type": "execute_result"
    }
   ],
   "source": [
    "graphs[0][1].size()"
   ]
  },
  {
   "cell_type": "code",
   "execution_count": null,
   "metadata": {},
   "outputs": [],
   "source": []
  }
 ],
 "metadata": {
  "kernelspec": {
   "display_name": "nag-sim",
   "language": "python",
   "name": "python3"
  },
  "language_info": {
   "codemirror_mode": {
    "name": "ipython",
    "version": 3
   },
   "file_extension": ".py",
   "mimetype": "text/x-python",
   "name": "python",
   "nbconvert_exporter": "python",
   "pygments_lexer": "ipython3",
   "version": "3.8.16"
  },
  "orig_nbformat": 4
 },
 "nbformat": 4,
 "nbformat_minor": 2
}
